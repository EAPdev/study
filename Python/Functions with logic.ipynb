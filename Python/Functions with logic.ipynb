{
 "cells": [
  {
   "cell_type": "code",
   "execution_count": 1,
   "id": "190bba48",
   "metadata": {},
   "outputs": [
    {
     "data": {
      "text/plain": [
       "0"
      ]
     },
     "execution_count": 1,
     "metadata": {},
     "output_type": "execute_result"
    }
   ],
   "source": [
    "2 % 2"
   ]
  },
  {
   "cell_type": "code",
   "execution_count": 2,
   "id": "6a6b628b",
   "metadata": {},
   "outputs": [
    {
     "data": {
      "text/plain": [
       "1"
      ]
     },
     "execution_count": 2,
     "metadata": {},
     "output_type": "execute_result"
    }
   ],
   "source": [
    "3 % 2"
   ]
  },
  {
   "cell_type": "code",
   "execution_count": 3,
   "id": "54f7986d",
   "metadata": {},
   "outputs": [],
   "source": [
    "# mod tells you the rest after division"
   ]
  },
  {
   "cell_type": "code",
   "execution_count": 4,
   "id": "2a9c0e6d",
   "metadata": {},
   "outputs": [
    {
     "data": {
      "text/plain": [
       "0"
      ]
     },
     "execution_count": 4,
     "metadata": {},
     "output_type": "execute_result"
    }
   ],
   "source": [
    "20 % 2"
   ]
  },
  {
   "cell_type": "code",
   "execution_count": 5,
   "id": "34986044",
   "metadata": {},
   "outputs": [],
   "source": [
    "# you can tel if the number is even"
   ]
  },
  {
   "cell_type": "code",
   "execution_count": 6,
   "id": "4559aa99",
   "metadata": {},
   "outputs": [
    {
     "data": {
      "text/plain": [
       "True"
      ]
     },
     "execution_count": 6,
     "metadata": {},
     "output_type": "execute_result"
    }
   ],
   "source": [
    "20 % 2 == 0"
   ]
  },
  {
   "cell_type": "code",
   "execution_count": 7,
   "id": "134b5d4f",
   "metadata": {},
   "outputs": [],
   "source": [
    "def even_check(number):\n",
    "    result = number % 2 == 0\n",
    "    return result"
   ]
  },
  {
   "cell_type": "code",
   "execution_count": 8,
   "id": "b1b8ec3d",
   "metadata": {},
   "outputs": [
    {
     "data": {
      "text/plain": [
       "True"
      ]
     },
     "execution_count": 8,
     "metadata": {},
     "output_type": "execute_result"
    }
   ],
   "source": [
    "even_check(24)"
   ]
  },
  {
   "cell_type": "code",
   "execution_count": 9,
   "id": "e1fd7e71",
   "metadata": {},
   "outputs": [],
   "source": [
    "# faster transcript"
   ]
  },
  {
   "cell_type": "code",
   "execution_count": 10,
   "id": "a789877d",
   "metadata": {},
   "outputs": [],
   "source": [
    "def even_check(number):\n",
    "    return number % 2 == 0"
   ]
  },
  {
   "cell_type": "code",
   "execution_count": 11,
   "id": "a211c257",
   "metadata": {},
   "outputs": [
    {
     "data": {
      "text/plain": [
       "True"
      ]
     },
     "execution_count": 11,
     "metadata": {},
     "output_type": "execute_result"
    }
   ],
   "source": [
    "even_check(48)"
   ]
  },
  {
   "cell_type": "code",
   "execution_count": 12,
   "id": "2f285cd9",
   "metadata": {},
   "outputs": [],
   "source": [
    "# function which tells you if there is an even number in a list"
   ]
  },
  {
   "cell_type": "code",
   "execution_count": 23,
   "id": "73ff7284",
   "metadata": {},
   "outputs": [],
   "source": [
    "def even_check_list(num_list):\n",
    "    for numbers in num_list:\n",
    "        if numbers % 2 == 0:\n",
    "            return True\n",
    "        else:\n",
    "            pass"
   ]
  },
  {
   "cell_type": "code",
   "execution_count": 24,
   "id": "9293fc20",
   "metadata": {},
   "outputs": [
    {
     "data": {
      "text/plain": [
       "True"
      ]
     },
     "execution_count": 24,
     "metadata": {},
     "output_type": "execute_result"
    }
   ],
   "source": [
    "even_check_list([1,3,4])"
   ]
  },
  {
   "cell_type": "code",
   "execution_count": 25,
   "id": "efa8ec62",
   "metadata": {},
   "outputs": [],
   "source": [
    "even_check_list([1,3,5])"
   ]
  },
  {
   "cell_type": "code",
   "execution_count": 18,
   "id": "8ad8ed35",
   "metadata": {},
   "outputs": [],
   "source": [
    "# we want the functions to write if there is no even number"
   ]
  },
  {
   "cell_type": "code",
   "execution_count": 19,
   "id": "42ddce7d",
   "metadata": {},
   "outputs": [],
   "source": [
    "# X you can not do it like this"
   ]
  },
  {
   "cell_type": "code",
   "execution_count": 28,
   "id": "7b20e20c",
   "metadata": {},
   "outputs": [],
   "source": [
    "def even_check_list(num_list):\n",
    "    for numbers in num_list:\n",
    "        if numbers % 2 == 0:\n",
    "            return True\n",
    "        else:\n",
    "            return False"
   ]
  },
  {
   "cell_type": "code",
   "execution_count": 29,
   "id": "e3f576c5",
   "metadata": {},
   "outputs": [
    {
     "data": {
      "text/plain": [
       "False"
      ]
     },
     "execution_count": 29,
     "metadata": {},
     "output_type": "execute_result"
    }
   ],
   "source": [
    "even_check_list([1,2,4,6,8])"
   ]
  },
  {
   "cell_type": "code",
   "execution_count": 30,
   "id": "0dd5aba9",
   "metadata": {},
   "outputs": [
    {
     "data": {
      "text/plain": [
       "False"
      ]
     },
     "execution_count": 30,
     "metadata": {},
     "output_type": "execute_result"
    }
   ],
   "source": [
    "even_check_list([1,3,5])"
   ]
  },
  {
   "cell_type": "code",
   "execution_count": 33,
   "id": "8ce0861f",
   "metadata": {},
   "outputs": [],
   "source": [
    "# it then controles only the first number in this list\n",
    "     # must look like this:"
   ]
  },
  {
   "cell_type": "code",
   "execution_count": 36,
   "id": "04a5967a",
   "metadata": {},
   "outputs": [],
   "source": [
    "def even_check_list(num_list):\n",
    "    for numbers in num_list:\n",
    "        if numbers % 2 == 0:\n",
    "            return True\n",
    "        else:\n",
    "            pass\n",
    "    return False"
   ]
  },
  {
   "cell_type": "code",
   "execution_count": 37,
   "id": "476f911a",
   "metadata": {},
   "outputs": [
    {
     "data": {
      "text/plain": [
       "True"
      ]
     },
     "execution_count": 37,
     "metadata": {},
     "output_type": "execute_result"
    }
   ],
   "source": [
    "even_check_list([1,3,5,7,9,11,12])"
   ]
  },
  {
   "cell_type": "code",
   "execution_count": 38,
   "id": "73ab2a88",
   "metadata": {},
   "outputs": [],
   "source": [
    "# we want to write out all the even numbers"
   ]
  },
  {
   "cell_type": "code",
   "execution_count": 40,
   "id": "4607f58e",
   "metadata": {},
   "outputs": [],
   "source": [
    "def even_check_list(num_list):\n",
    "    even_numbers = []\n",
    "    for number in num_list:\n",
    "        if number % 2 == 0:\n",
    "            even_numbers.append(number)\n",
    "        else:\n",
    "            pass\n",
    "    return even_numbers"
   ]
  },
  {
   "cell_type": "code",
   "execution_count": 41,
   "id": "133032ec",
   "metadata": {},
   "outputs": [
    {
     "data": {
      "text/plain": [
       "[2, 6, 4]"
      ]
     },
     "execution_count": 41,
     "metadata": {},
     "output_type": "execute_result"
    }
   ],
   "source": [
    "even_check_list([1,2,3,5,6,7,4,9])"
   ]
  },
  {
   "cell_type": "code",
   "execution_count": 42,
   "id": "bd9d382b",
   "metadata": {},
   "outputs": [
    {
     "data": {
      "text/plain": [
       "[]"
      ]
     },
     "execution_count": 42,
     "metadata": {},
     "output_type": "execute_result"
    }
   ],
   "source": [
    "even_check_list([1,3,5,7])"
   ]
  },
  {
   "cell_type": "code",
   "execution_count": null,
   "id": "39034f56",
   "metadata": {},
   "outputs": [],
   "source": []
  }
 ],
 "metadata": {
  "kernelspec": {
   "display_name": "Python 3 (ipykernel)",
   "language": "python",
   "name": "python3"
  },
  "language_info": {
   "codemirror_mode": {
    "name": "ipython",
    "version": 3
   },
   "file_extension": ".py",
   "mimetype": "text/x-python",
   "name": "python",
   "nbconvert_exporter": "python",
   "pygments_lexer": "ipython3",
   "version": "3.9.13"
  }
 },
 "nbformat": 4,
 "nbformat_minor": 5
}
