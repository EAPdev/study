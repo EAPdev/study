{
 "cells": [
  {
   "cell_type": "code",
   "execution_count": 1,
   "id": "8a5a2ea6",
   "metadata": {},
   "outputs": [],
   "source": [
    "name = 'Tim'"
   ]
  },
  {
   "cell_type": "code",
   "execution_count": 2,
   "id": "7e08c7ae",
   "metadata": {},
   "outputs": [
    {
     "data": {
      "text/plain": [
       "'Tim'"
      ]
     },
     "execution_count": 2,
     "metadata": {},
     "output_type": "execute_result"
    }
   ],
   "source": [
    "name"
   ]
  },
  {
   "cell_type": "code",
   "execution_count": 6,
   "id": "eebf4a69",
   "metadata": {},
   "outputs": [],
   "source": [
    " lastletters = name[1:]"
   ]
  },
  {
   "cell_type": "code",
   "execution_count": 7,
   "id": "f4bd15dc",
   "metadata": {},
   "outputs": [
    {
     "data": {
      "text/plain": [
       "'imD'"
      ]
     },
     "execution_count": 7,
     "metadata": {},
     "output_type": "execute_result"
    }
   ],
   "source": [
    "lastletters + 'D'"
   ]
  },
  {
   "cell_type": "code",
   "execution_count": 8,
   "id": "539301a7",
   "metadata": {},
   "outputs": [
    {
     "data": {
      "text/plain": [
       "'Timothy'"
      ]
     },
     "execution_count": 8,
     "metadata": {},
     "output_type": "execute_result"
    }
   ],
   "source": [
    "name + 'othy'"
   ]
  },
  {
   "cell_type": "code",
   "execution_count": 12,
   "id": "8c157702",
   "metadata": {},
   "outputs": [],
   "source": [
    "phrase = 'Hello World!'"
   ]
  },
  {
   "cell_type": "code",
   "execution_count": 15,
   "id": "d384aaa4",
   "metadata": {},
   "outputs": [
    {
     "data": {
      "text/plain": [
       "'Hello World! My name is Erik.'"
      ]
     },
     "execution_count": 15,
     "metadata": {},
     "output_type": "execute_result"
    }
   ],
   "source": [
    "phrase + ' My name is Erik.'"
   ]
  },
  {
   "cell_type": "code",
   "execution_count": 9,
   "id": "ca45a050",
   "metadata": {},
   "outputs": [],
   "source": [
    "letter = 'z'"
   ]
  },
  {
   "cell_type": "code",
   "execution_count": 10,
   "id": "eb66a3fd",
   "metadata": {},
   "outputs": [
    {
     "data": {
      "text/plain": [
       "'zzzzzzzzzz'"
      ]
     },
     "execution_count": 10,
     "metadata": {},
     "output_type": "execute_result"
    }
   ],
   "source": [
    "letter * 10"
   ]
  },
  {
   "cell_type": "code",
   "execution_count": 16,
   "id": "743f60e3",
   "metadata": {},
   "outputs": [
    {
     "data": {
      "text/plain": [
       "7"
      ]
     },
     "execution_count": 16,
     "metadata": {},
     "output_type": "execute_result"
    }
   ],
   "source": [
    "2 + 5"
   ]
  },
  {
   "cell_type": "code",
   "execution_count": 17,
   "id": "024398f0",
   "metadata": {},
   "outputs": [
    {
     "data": {
      "text/plain": [
       "'25'"
      ]
     },
     "execution_count": 17,
     "metadata": {},
     "output_type": "execute_result"
    }
   ],
   "source": [
    "'2' + '5'"
   ]
  },
  {
   "cell_type": "code",
   "execution_count": 18,
   "id": "e1a2be64",
   "metadata": {},
   "outputs": [],
   "source": [
    "x = 'Hello World'"
   ]
  },
  {
   "cell_type": "code",
   "execution_count": 19,
   "id": "c2b6182f",
   "metadata": {},
   "outputs": [
    {
     "data": {
      "text/plain": [
       "'HELLO WORLD'"
      ]
     },
     "execution_count": 19,
     "metadata": {},
     "output_type": "execute_result"
    }
   ],
   "source": [
    "x.upper()"
   ]
  },
  {
   "cell_type": "code",
   "execution_count": 20,
   "id": "0720e795",
   "metadata": {},
   "outputs": [
    {
     "data": {
      "text/plain": [
       "'hello world'"
      ]
     },
     "execution_count": 20,
     "metadata": {},
     "output_type": "execute_result"
    }
   ],
   "source": [
    "x.lower()"
   ]
  },
  {
   "cell_type": "code",
   "execution_count": 21,
   "id": "cd0f7e04",
   "metadata": {},
   "outputs": [
    {
     "data": {
      "text/plain": [
       "['Hello', 'World']"
      ]
     },
     "execution_count": 21,
     "metadata": {},
     "output_type": "execute_result"
    }
   ],
   "source": [
    "x.split()"
   ]
  },
  {
   "cell_type": "code",
   "execution_count": 22,
   "id": "7d02ccb7",
   "metadata": {},
   "outputs": [],
   "source": [
    "x ='Hello my name is Erik'"
   ]
  },
  {
   "cell_type": "code",
   "execution_count": 23,
   "id": "c949dfdf",
   "metadata": {},
   "outputs": [
    {
     "data": {
      "text/plain": [
       "['Hello', 'my', 'name', 'is', 'Erik']"
      ]
     },
     "execution_count": 23,
     "metadata": {},
     "output_type": "execute_result"
    }
   ],
   "source": [
    "x.split()"
   ]
  },
  {
   "cell_type": "code",
   "execution_count": 25,
   "id": "460b7df1",
   "metadata": {},
   "outputs": [
    {
     "data": {
      "text/plain": [
       "['H', 'llo my nam', ' is Erik']"
      ]
     },
     "execution_count": 25,
     "metadata": {},
     "output_type": "execute_result"
    }
   ],
   "source": [
    "x.split('e')"
   ]
  },
  {
   "cell_type": "code",
   "execution_count": null,
   "id": "a66711bc",
   "metadata": {},
   "outputs": [],
   "source": []
  }
 ],
 "metadata": {
  "kernelspec": {
   "display_name": "Python 3 (ipykernel)",
   "language": "python",
   "name": "python3"
  },
  "language_info": {
   "codemirror_mode": {
    "name": "ipython",
    "version": 3
   },
   "file_extension": ".py",
   "mimetype": "text/x-python",
   "name": "python",
   "nbconvert_exporter": "python",
   "pygments_lexer": "ipython3",
   "version": "3.9.2"
  }
 },
 "nbformat": 4,
 "nbformat_minor": 5
}
