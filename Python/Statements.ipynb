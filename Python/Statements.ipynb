{
 "cells": [
  {
   "cell_type": "code",
   "execution_count": 1,
   "id": "e56b019b",
   "metadata": {},
   "outputs": [
    {
     "name": "stdout",
     "output_type": "stream",
     "text": [
      "Its true.\n"
     ]
    }
   ],
   "source": [
    "if 3 > 2:\n",
    "    print('Its true.')"
   ]
  },
  {
   "cell_type": "code",
   "execution_count": 3,
   "id": "58e95946",
   "metadata": {},
   "outputs": [
    {
     "name": "stdout",
     "output_type": "stream",
     "text": [
      "Iam hungry\n"
     ]
    }
   ],
   "source": [
    "hungry = True\n",
    "if hungry:\n",
    "    print('Iam hungry')"
   ]
  },
  {
   "cell_type": "code",
   "execution_count": 6,
   "id": "14064314",
   "metadata": {},
   "outputs": [],
   "source": [
    "hungry = False\n",
    "if hungry:\n",
    "    print('Iam hungry')"
   ]
  },
  {
   "cell_type": "markdown",
   "id": "82176dd7",
   "metadata": {},
   "source": [
    "nothing happens because the conditions are not true"
   ]
  },
  {
   "cell_type": "code",
   "execution_count": 8,
   "id": "180779bd",
   "metadata": {},
   "outputs": [
    {
     "name": "stdout",
     "output_type": "stream",
     "text": [
      "Iam not hungry.\n"
     ]
    }
   ],
   "source": [
    "hungry = False\n",
    "if hungry:\n",
    "    print('FEED ME!')\n",
    "else:\n",
    "    print('Iam not hungry.')"
   ]
  },
  {
   "cell_type": "code",
   "execution_count": 9,
   "id": "adf70799",
   "metadata": {},
   "outputs": [
    {
     "name": "stdout",
     "output_type": "stream",
     "text": [
      "FEED ME!\n"
     ]
    }
   ],
   "source": [
    "hungry = True\n",
    "if hungry:\n",
    "    print('FEED ME!')\n",
    "else:\n",
    "    print('Iam not hungry.')"
   ]
  },
  {
   "cell_type": "code",
   "execution_count": 11,
   "id": "6475b2ed",
   "metadata": {},
   "outputs": [
    {
     "name": "stdout",
     "output_type": "stream",
     "text": [
      "I do not know, where I am.\n"
     ]
    }
   ],
   "source": [
    "location = 'Bank'\n",
    "\n",
    "if location == 'Car shop':\n",
    "    print('I want to buy this car.')\n",
    "else:\n",
    "    print('I do not know, where I am.')"
   ]
  },
  {
   "cell_type": "code",
   "execution_count": 12,
   "id": "101316be",
   "metadata": {},
   "outputs": [
    {
     "name": "stdout",
     "output_type": "stream",
     "text": [
      "I want to save money.\n"
     ]
    }
   ],
   "source": [
    "location = 'Bank'\n",
    "\n",
    "if location == 'Car shop':\n",
    "    print('I want to buy this car.')\n",
    "elif location == 'Bank':\n",
    "    print('I want to save money.')\n",
    "else:\n",
    "    print('I do not know, where I am.')"
   ]
  },
  {
   "cell_type": "code",
   "execution_count": 14,
   "id": "eb0dbf3c",
   "metadata": {},
   "outputs": [
    {
     "name": "stdout",
     "output_type": "stream",
     "text": [
      "I want to save money.\n"
     ]
    }
   ],
   "source": [
    "location = 'Bank'\n",
    "\n",
    "if location == 'Car shop':\n",
    "    print('I want to buy this car.')\n",
    "elif location == 'Bank':\n",
    "    print('I want to save money.')\n",
    "elif location == 'Shop':\n",
    "    print('I need to buy some food.')\n",
    "else:\n",
    "    print('I do not know, where I am.')"
   ]
  },
  {
   "cell_type": "code",
   "execution_count": 15,
   "id": "891cff6c",
   "metadata": {},
   "outputs": [
    {
     "name": "stdout",
     "output_type": "stream",
     "text": [
      "I need to buy some food.\n"
     ]
    }
   ],
   "source": [
    "location = 'Shop'\n",
    "\n",
    "if location == 'Car shop':\n",
    "    print('I want to buy this car.')\n",
    "elif location == 'Bank':\n",
    "    print('I want to save money.')\n",
    "elif location == 'Shop':\n",
    "    print('I need to buy some food.')\n",
    "else:\n",
    "    print('I do not know, where I am.')"
   ]
  },
  {
   "cell_type": "code",
   "execution_count": 16,
   "id": "70ab68a1",
   "metadata": {},
   "outputs": [
    {
     "name": "stdout",
     "output_type": "stream",
     "text": [
      "I do not know, where I am.\n"
     ]
    }
   ],
   "source": [
    "location = 'Pub'\n",
    "\n",
    "if location == 'Car shop':\n",
    "    print('I want to buy this car.')\n",
    "elif location == 'Bank':\n",
    "    print('I want to save money.')\n",
    "elif location == 'Shop':\n",
    "    print('I need to buy some food.')\n",
    "else:\n",
    "    print('I do not know, where I am.')"
   ]
  },
  {
   "cell_type": "code",
   "execution_count": 17,
   "id": "9f3b497e",
   "metadata": {},
   "outputs": [
    {
     "name": "stdout",
     "output_type": "stream",
     "text": [
      "What is your name?\n"
     ]
    }
   ],
   "source": [
    "name = 'Peter'\n",
    "\n",
    "if name == 'Sam':\n",
    "    print('Hello Sam!')\n",
    "elif name == 'Adam':\n",
    "    print('Hello Adam!')\n",
    "else:\n",
    "    print('What is your name?')"
   ]
  },
  {
   "cell_type": "code",
   "execution_count": 18,
   "id": "909a6659",
   "metadata": {},
   "outputs": [
    {
     "name": "stdout",
     "output_type": "stream",
     "text": [
      "Hello Adam!\n"
     ]
    }
   ],
   "source": [
    "name = 'Adam'\n",
    "\n",
    "if name == 'Sam':\n",
    "    print('Hello Sam!')\n",
    "elif name == 'Adam':\n",
    "    print('Hello Adam!')\n",
    "else:\n",
    "    print('What is your name?')"
   ]
  },
  {
   "cell_type": "code",
   "execution_count": 19,
   "id": "afb6c1ab",
   "metadata": {},
   "outputs": [
    {
     "name": "stdout",
     "output_type": "stream",
     "text": [
      "Hello Sam!\n"
     ]
    }
   ],
   "source": [
    "name = 'Sam'\n",
    "\n",
    "if name == 'Sam':\n",
    "    print('Hello Sam!')\n",
    "elif name == 'Adam':\n",
    "    print('Hello Adam!')\n",
    "else:\n",
    "    print('What is your name?')"
   ]
  },
  {
   "cell_type": "code",
   "execution_count": null,
   "id": "802da8d6",
   "metadata": {},
   "outputs": [],
   "source": []
  }
 ],
 "metadata": {
  "kernelspec": {
   "display_name": "Python 3 (ipykernel)",
   "language": "python",
   "name": "python3"
  },
  "language_info": {
   "codemirror_mode": {
    "name": "ipython",
    "version": 3
   },
   "file_extension": ".py",
   "mimetype": "text/x-python",
   "name": "python",
   "nbconvert_exporter": "python",
   "pygments_lexer": "ipython3",
   "version": "3.9.13"
  }
 },
 "nbformat": 4,
 "nbformat_minor": 5
}
