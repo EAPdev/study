{
 "cells": [
  {
   "cell_type": "code",
   "execution_count": 1,
   "id": "2f439b58",
   "metadata": {},
   "outputs": [],
   "source": [
    "def say_hello():\n",
    "    print('ahoj')\n",
    "    print('jak se mas?')"
   ]
  },
  {
   "cell_type": "code",
   "execution_count": 3,
   "id": "3f0f8cb6",
   "metadata": {},
   "outputs": [
    {
     "name": "stdout",
     "output_type": "stream",
     "text": [
      "ahoj\n",
      "jak se mas?\n"
     ]
    }
   ],
   "source": [
    "say_hello()"
   ]
  },
  {
   "cell_type": "code",
   "execution_count": 5,
   "id": "b6ca6099",
   "metadata": {},
   "outputs": [],
   "source": [
    "def say_hello(name):\n",
    "    print(f'hello {name}')"
   ]
  },
  {
   "cell_type": "code",
   "execution_count": 7,
   "id": "bd4bb4d5",
   "metadata": {},
   "outputs": [
    {
     "name": "stdout",
     "output_type": "stream",
     "text": [
      "hello Erik\n"
     ]
    }
   ],
   "source": [
    "say_hello('Erik')"
   ]
  },
  {
   "cell_type": "code",
   "execution_count": 8,
   "id": "74d7c569",
   "metadata": {},
   "outputs": [
    {
     "ename": "TypeError",
     "evalue": "say_hello() missing 1 required positional argument: 'name'",
     "output_type": "error",
     "traceback": [
      "\u001b[1;31m---------------------------------------------------------------------------\u001b[0m",
      "\u001b[1;31mTypeError\u001b[0m                                 Traceback (most recent call last)",
      "\u001b[1;32m~\\AppData\\Local\\Temp\\ipykernel_9568\\2814888808.py\u001b[0m in \u001b[0;36m<module>\u001b[1;34m\u001b[0m\n\u001b[1;32m----> 1\u001b[1;33m \u001b[0msay_hello\u001b[0m\u001b[1;33m(\u001b[0m\u001b[1;33m)\u001b[0m\u001b[1;33m\u001b[0m\u001b[1;33m\u001b[0m\u001b[0m\n\u001b[0m",
      "\u001b[1;31mTypeError\u001b[0m: say_hello() missing 1 required positional argument: 'name'"
     ]
    }
   ],
   "source": [
    "say_hello()"
   ]
  },
  {
   "cell_type": "code",
   "execution_count": 9,
   "id": "436fc89d",
   "metadata": {},
   "outputs": [],
   "source": [
    "def say_hello(name='person'):\n",
    "    print(f'hello {name}')"
   ]
  },
  {
   "cell_type": "code",
   "execution_count": 10,
   "id": "e838a178",
   "metadata": {},
   "outputs": [
    {
     "name": "stdout",
     "output_type": "stream",
     "text": [
      "hello Adam\n"
     ]
    }
   ],
   "source": [
    "say_hello('Adam')"
   ]
  },
  {
   "cell_type": "code",
   "execution_count": 11,
   "id": "0f5dc855",
   "metadata": {},
   "outputs": [
    {
     "name": "stdout",
     "output_type": "stream",
     "text": [
      "hello person\n"
     ]
    }
   ],
   "source": [
    "say_hello()"
   ]
  },
  {
   "cell_type": "code",
   "execution_count": 12,
   "id": "ae394978",
   "metadata": {},
   "outputs": [],
   "source": [
    "def print_result(a,b):\n",
    "    print(a+b)"
   ]
  },
  {
   "cell_type": "code",
   "execution_count": 13,
   "id": "5c71e3c1",
   "metadata": {},
   "outputs": [],
   "source": [
    "def return_result(c,d):\n",
    "    return c+d"
   ]
  },
  {
   "cell_type": "code",
   "execution_count": 14,
   "id": "b5cdc482",
   "metadata": {},
   "outputs": [
    {
     "name": "stdout",
     "output_type": "stream",
     "text": [
      "30\n"
     ]
    }
   ],
   "source": [
    "print_result(10,20)"
   ]
  },
  {
   "cell_type": "code",
   "execution_count": 15,
   "id": "8e34171d",
   "metadata": {},
   "outputs": [
    {
     "name": "stdout",
     "output_type": "stream",
     "text": [
      "30\n"
     ]
    }
   ],
   "source": [
    "X = print_result(10,20)"
   ]
  },
  {
   "cell_type": "code",
   "execution_count": 16,
   "id": "8533f51e",
   "metadata": {},
   "outputs": [],
   "source": [
    "X"
   ]
  },
  {
   "cell_type": "code",
   "execution_count": 17,
   "id": "d66e546c",
   "metadata": {},
   "outputs": [
    {
     "data": {
      "text/plain": [
       "NoneType"
      ]
     },
     "execution_count": 17,
     "metadata": {},
     "output_type": "execute_result"
    }
   ],
   "source": [
    "type(X)"
   ]
  },
  {
   "cell_type": "code",
   "execution_count": 18,
   "id": "39b1b665",
   "metadata": {},
   "outputs": [
    {
     "data": {
      "text/plain": [
       "30"
      ]
     },
     "execution_count": 18,
     "metadata": {},
     "output_type": "execute_result"
    }
   ],
   "source": [
    "return_result(10,20)"
   ]
  },
  {
   "cell_type": "code",
   "execution_count": 19,
   "id": "5a41a195",
   "metadata": {},
   "outputs": [],
   "source": [
    "Y = return_result(10,20)"
   ]
  },
  {
   "cell_type": "code",
   "execution_count": 20,
   "id": "9d349c70",
   "metadata": {},
   "outputs": [
    {
     "data": {
      "text/plain": [
       "30"
      ]
     },
     "execution_count": 20,
     "metadata": {},
     "output_type": "execute_result"
    }
   ],
   "source": [
    "Y"
   ]
  },
  {
   "cell_type": "code",
   "execution_count": 21,
   "id": "351b998a",
   "metadata": {},
   "outputs": [
    {
     "data": {
      "text/plain": [
       "int"
      ]
     },
     "execution_count": 21,
     "metadata": {},
     "output_type": "execute_result"
    }
   ],
   "source": [
    "type(Y)"
   ]
  },
  {
   "cell_type": "code",
   "execution_count": 22,
   "id": "5316977d",
   "metadata": {},
   "outputs": [],
   "source": [
    "def myfce(r,e):\n",
    "    print(r+e)\n",
    "    return r+e"
   ]
  },
  {
   "cell_type": "code",
   "execution_count": 24,
   "id": "270b8b86",
   "metadata": {},
   "outputs": [
    {
     "name": "stdout",
     "output_type": "stream",
     "text": [
      "3\n"
     ]
    }
   ],
   "source": [
    "result = myfce(1,2)"
   ]
  },
  {
   "cell_type": "code",
   "execution_count": 25,
   "id": "e79bc615",
   "metadata": {},
   "outputs": [
    {
     "data": {
      "text/plain": [
       "3"
      ]
     },
     "execution_count": 25,
     "metadata": {},
     "output_type": "execute_result"
    }
   ],
   "source": [
    "result"
   ]
  },
  {
   "cell_type": "code",
   "execution_count": 26,
   "id": "7aa31511",
   "metadata": {},
   "outputs": [],
   "source": [
    "def sum_num(a,b):\n",
    "    return a+b"
   ]
  },
  {
   "cell_type": "code",
   "execution_count": 27,
   "id": "b618449d",
   "metadata": {},
   "outputs": [
    {
     "data": {
      "text/plain": [
       "7"
      ]
     },
     "execution_count": 27,
     "metadata": {},
     "output_type": "execute_result"
    }
   ],
   "source": [
    "sum_num(3,4)"
   ]
  },
  {
   "cell_type": "code",
   "execution_count": 29,
   "id": "d4480f19",
   "metadata": {},
   "outputs": [
    {
     "data": {
      "text/plain": [
       "'ahojprisny'"
      ]
     },
     "execution_count": 29,
     "metadata": {},
     "output_type": "execute_result"
    }
   ],
   "source": [
    "sum_num(\"ahoj\",\"prisny\")"
   ]
  },
  {
   "cell_type": "code",
   "execution_count": 30,
   "id": "73505133",
   "metadata": {},
   "outputs": [
    {
     "data": {
      "text/plain": [
       "'540'"
      ]
     },
     "execution_count": 30,
     "metadata": {},
     "output_type": "execute_result"
    }
   ],
   "source": [
    "sum_num(\"5\",\"40\")"
   ]
  },
  {
   "cell_type": "code",
   "execution_count": null,
   "id": "5c9c0aab",
   "metadata": {},
   "outputs": [],
   "source": []
  }
 ],
 "metadata": {
  "kernelspec": {
   "display_name": "Python 3 (ipykernel)",
   "language": "python",
   "name": "python3"
  },
  "language_info": {
   "codemirror_mode": {
    "name": "ipython",
    "version": 3
   },
   "file_extension": ".py",
   "mimetype": "text/x-python",
   "name": "python",
   "nbconvert_exporter": "python",
   "pygments_lexer": "ipython3",
   "version": "3.9.13"
  }
 },
 "nbformat": 4,
 "nbformat_minor": 5
}
