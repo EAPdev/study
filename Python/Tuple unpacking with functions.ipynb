{
 "cells": [
  {
   "cell_type": "code",
   "execution_count": 5,
   "id": "d117c50a",
   "metadata": {},
   "outputs": [],
   "source": [
    "Stock_prices = [('Apple',200),('Google',400),('Microsoft',100)]"
   ]
  },
  {
   "cell_type": "code",
   "execution_count": 6,
   "id": "dd75827b",
   "metadata": {},
   "outputs": [
    {
     "name": "stdout",
     "output_type": "stream",
     "text": [
      "('Apple', 200)\n",
      "('Google', 400)\n",
      "('Microsoft', 100)\n"
     ]
    }
   ],
   "source": [
    "for item in Stock_prices:\n",
    "    print(item)"
   ]
  },
  {
   "cell_type": "code",
   "execution_count": 7,
   "id": "861299f1",
   "metadata": {},
   "outputs": [
    {
     "name": "stdout",
     "output_type": "stream",
     "text": [
      "Apple\n",
      "Google\n",
      "Microsoft\n"
     ]
    }
   ],
   "source": [
    "for ticker,price in Stock_prices:\n",
    "    print(ticker)"
   ]
  },
  {
   "cell_type": "code",
   "execution_count": 8,
   "id": "a9cc9cd6",
   "metadata": {},
   "outputs": [
    {
     "name": "stdout",
     "output_type": "stream",
     "text": [
      "220.0\n",
      "440.0\n",
      "110.0\n"
     ]
    }
   ],
   "source": [
    "for ticker,price in Stock_prices:\n",
    "    print(price+(0.1*price))"
   ]
  },
  {
   "cell_type": "code",
   "execution_count": 16,
   "id": "f77a8e5b",
   "metadata": {},
   "outputs": [],
   "source": [
    "work_hours = [('Joe',100),('Chris',2000),('Lisa',400)]"
   ]
  },
  {
   "cell_type": "code",
   "execution_count": 12,
   "id": "af9a40d7",
   "metadata": {},
   "outputs": [],
   "source": [
    "def employee_check(work_hours):\n",
    "    \n",
    "    max_hours = 0\n",
    "    employee_of_month = ''\n",
    "    for employee,hours in work_hours:\n",
    "        if hours > max_hours:\n",
    "            max_hours = hours\n",
    "            employee_of_month = employee\n",
    "            \n",
    "    else:\n",
    "        return (employee_of_month,max_hours)"
   ]
  },
  {
   "cell_type": "code",
   "execution_count": 17,
   "id": "9e8cce95",
   "metadata": {},
   "outputs": [
    {
     "data": {
      "text/plain": [
       "('Chris', 2000)"
      ]
     },
     "execution_count": 17,
     "metadata": {},
     "output_type": "execute_result"
    }
   ],
   "source": [
    "employee_check(work_hours)"
   ]
  },
  {
   "cell_type": "code",
   "execution_count": 18,
   "id": "99b8c547",
   "metadata": {},
   "outputs": [],
   "source": [
    "result = employee_check(work_hours)"
   ]
  },
  {
   "cell_type": "code",
   "execution_count": 19,
   "id": "e7ef902c",
   "metadata": {},
   "outputs": [
    {
     "data": {
      "text/plain": [
       "('Chris', 2000)"
      ]
     },
     "execution_count": 19,
     "metadata": {},
     "output_type": "execute_result"
    }
   ],
   "source": [
    "result"
   ]
  },
  {
   "cell_type": "code",
   "execution_count": 20,
   "id": "dc90f488",
   "metadata": {},
   "outputs": [],
   "source": [
    "name,hours = employee_check(work_hours)"
   ]
  },
  {
   "cell_type": "code",
   "execution_count": 21,
   "id": "25928536",
   "metadata": {},
   "outputs": [
    {
     "data": {
      "text/plain": [
       "'Chris'"
      ]
     },
     "execution_count": 21,
     "metadata": {},
     "output_type": "execute_result"
    }
   ],
   "source": [
    "name"
   ]
  },
  {
   "cell_type": "code",
   "execution_count": 22,
   "id": "67622ce5",
   "metadata": {},
   "outputs": [
    {
     "data": {
      "text/plain": [
       "2000"
      ]
     },
     "execution_count": 22,
     "metadata": {},
     "output_type": "execute_result"
    }
   ],
   "source": [
    "hours"
   ]
  },
  {
   "cell_type": "code",
   "execution_count": 23,
   "id": "b0769946",
   "metadata": {},
   "outputs": [],
   "source": [
    "# you don't know the function"
   ]
  },
  {
   "cell_type": "code",
   "execution_count": 24,
   "id": "fc726919",
   "metadata": {},
   "outputs": [
    {
     "ename": "ValueError",
     "evalue": "not enough values to unpack (expected 3, got 2)",
     "output_type": "error",
     "traceback": [
      "\u001b[1;31m---------------------------------------------------------------------------\u001b[0m",
      "\u001b[1;31mValueError\u001b[0m                                Traceback (most recent call last)",
      "\u001b[1;32m~\\AppData\\Local\\Temp\\ipykernel_8952\\1408970912.py\u001b[0m in \u001b[0;36m<module>\u001b[1;34m\u001b[0m\n\u001b[1;32m----> 1\u001b[1;33m \u001b[0mname\u001b[0m\u001b[1;33m,\u001b[0m\u001b[0mhours\u001b[0m\u001b[1;33m,\u001b[0m\u001b[0mlocation\u001b[0m \u001b[1;33m=\u001b[0m \u001b[0memployee_check\u001b[0m\u001b[1;33m(\u001b[0m\u001b[0mwork_hours\u001b[0m\u001b[1;33m)\u001b[0m\u001b[1;33m\u001b[0m\u001b[1;33m\u001b[0m\u001b[0m\n\u001b[0m",
      "\u001b[1;31mValueError\u001b[0m: not enough values to unpack (expected 3, got 2)"
     ]
    }
   ],
   "source": [
    "name,hours,location = employee_check(work_hours)"
   ]
  },
  {
   "cell_type": "code",
   "execution_count": 25,
   "id": "6413040e",
   "metadata": {},
   "outputs": [],
   "source": [
    "# you excepted 3 vaules, but there are only 2 values\n",
    "# the easiest way is to do this:"
   ]
  },
  {
   "cell_type": "code",
   "execution_count": 26,
   "id": "bece6422",
   "metadata": {},
   "outputs": [],
   "source": [
    "item = employee_check(work_hours)"
   ]
  },
  {
   "cell_type": "code",
   "execution_count": 27,
   "id": "416a8a47",
   "metadata": {},
   "outputs": [
    {
     "data": {
      "text/plain": [
       "('Chris', 2000)"
      ]
     },
     "execution_count": 27,
     "metadata": {},
     "output_type": "execute_result"
    }
   ],
   "source": [
    "item"
   ]
  },
  {
   "cell_type": "code",
   "execution_count": 28,
   "id": "1192d6e3",
   "metadata": {},
   "outputs": [],
   "source": [
    "# now you see what's inside this function"
   ]
  },
  {
   "cell_type": "code",
   "execution_count": null,
   "id": "00a6021e",
   "metadata": {},
   "outputs": [],
   "source": []
  }
 ],
 "metadata": {
  "kernelspec": {
   "display_name": "Python 3 (ipykernel)",
   "language": "python",
   "name": "python3"
  },
  "language_info": {
   "codemirror_mode": {
    "name": "ipython",
    "version": 3
   },
   "file_extension": ".py",
   "mimetype": "text/x-python",
   "name": "python",
   "nbconvert_exporter": "python",
   "pygments_lexer": "ipython3",
   "version": "3.9.13"
  }
 },
 "nbformat": 4,
 "nbformat_minor": 5
}
