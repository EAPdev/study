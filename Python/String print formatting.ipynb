{
 "cells": [
  {
   "cell_type": "raw",
   "id": "5e7fee46",
   "metadata": {},
   "source": [
    "Formatting: print('neco {}' .format('vlozena vec'))\n",
    "{} reorezentuji prvni string po .format"
   ]
  },
  {
   "cell_type": "code",
   "execution_count": 3,
   "id": "a9514405",
   "metadata": {},
   "outputs": [
    {
     "name": "stdout",
     "output_type": "stream",
     "text": [
      "Hello Erik\n"
     ]
    }
   ],
   "source": [
    "print('Hello {}'.format('Erik'))"
   ]
  },
  {
   "cell_type": "code",
   "execution_count": 4,
   "id": "86f4443b",
   "metadata": {},
   "outputs": [
    {
     "name": "stdout",
     "output_type": "stream",
     "text": [
      "The lion strong lazy\n"
     ]
    }
   ],
   "source": [
    "print('The {} {} {}'.format('lion', 'strong','lazy'))"
   ]
  },
  {
   "cell_type": "code",
   "execution_count": 6,
   "id": "f8488313",
   "metadata": {},
   "outputs": [
    {
     "name": "stdout",
     "output_type": "stream",
     "text": [
      "The strong lazy lion\n"
     ]
    }
   ],
   "source": [
    "print('The {1} {2} {0}'.format('lion','strong','lazy'))"
   ]
  },
  {
   "cell_type": "code",
   "execution_count": 7,
   "id": "1440ca82",
   "metadata": {},
   "outputs": [
    {
     "name": "stdout",
     "output_type": "stream",
     "text": [
      "The lion lion lion\n"
     ]
    }
   ],
   "source": [
    "print('The {0} {0} {0}'.format('lion','strong','lazy'))"
   ]
  },
  {
   "cell_type": "code",
   "execution_count": 9,
   "id": "43876326",
   "metadata": {},
   "outputs": [
    {
     "name": "stdout",
     "output_type": "stream",
     "text": [
      "The strong lazy lion\n"
     ]
    }
   ],
   "source": [
    "print('The {s} {la} {l}'.format(l ='lion', s='strong',la='lazy'))"
   ]
  },
  {
   "cell_type": "code",
   "execution_count": null,
   "id": "7ff913f5",
   "metadata": {},
   "outputs": [],
   "source": []
  },
  {
   "cell_type": "code",
   "execution_count": 17,
   "id": "96cfa877",
   "metadata": {},
   "outputs": [],
   "source": [
    "result = 100/33"
   ]
  },
  {
   "cell_type": "code",
   "execution_count": 18,
   "id": "c63920fb",
   "metadata": {},
   "outputs": [
    {
     "data": {
      "text/plain": [
       "3.0303030303030303"
      ]
     },
     "execution_count": 18,
     "metadata": {},
     "output_type": "execute_result"
    }
   ],
   "source": [
    "result"
   ]
  },
  {
   "cell_type": "code",
   "execution_count": 19,
   "id": "b9ad4dc0",
   "metadata": {},
   "outputs": [
    {
     "name": "stdout",
     "output_type": "stream",
     "text": [
      "The result was 3.0303030303030303\n"
     ]
    }
   ],
   "source": [
    "print('The result was {}'.format(result))"
   ]
  },
  {
   "cell_type": "code",
   "execution_count": 20,
   "id": "0d03a2ff",
   "metadata": {},
   "outputs": [
    {
     "name": "stdout",
     "output_type": "stream",
     "text": [
      "The result was 3.0303030303030303\n"
     ]
    }
   ],
   "source": [
    "print('The result was {r}'.format(r = result))"
   ]
  },
  {
   "cell_type": "code",
   "execution_count": 21,
   "id": "8520d38a",
   "metadata": {},
   "outputs": [
    {
     "name": "stdout",
     "output_type": "stream",
     "text": [
      "The result was 3.0303\n"
     ]
    }
   ],
   "source": [
    "print('The result was {r:1.4f}'.format(r = result))"
   ]
  },
  {
   "cell_type": "markdown",
   "id": "7d71fb15",
   "metadata": {},
   "source": [
    "{value:width.precison f}\n",
    "width urcuje delku toho co se ukaze\n",
    "precison je zaokrouhleni"
   ]
  },
  {
   "cell_type": "code",
   "execution_count": 22,
   "id": "54af9654",
   "metadata": {},
   "outputs": [
    {
     "name": "stdout",
     "output_type": "stream",
     "text": [
      "The result was     3.0303\n"
     ]
    }
   ],
   "source": [
    "print('The result was {r:10.4f}'.format(r = result))"
   ]
  },
  {
   "cell_type": "markdown",
   "id": "22323571",
   "metadata": {},
   "source": []
  },
  {
   "cell_type": "markdown",
   "id": "7bc2de17",
   "metadata": {},
   "source": [
    "Nova metoda:"
   ]
  },
  {
   "cell_type": "code",
   "execution_count": 23,
   "id": "51ec7079",
   "metadata": {},
   "outputs": [],
   "source": [
    "name = 'Erik'"
   ]
  },
  {
   "cell_type": "code",
   "execution_count": 25,
   "id": "62442ec4",
   "metadata": {},
   "outputs": [
    {
     "name": "stdout",
     "output_type": "stream",
     "text": [
      "Hello, his name is Erik\n"
     ]
    }
   ],
   "source": [
    "print(f'Hello, his name is {name}')"
   ]
  },
  {
   "cell_type": "code",
   "execution_count": 27,
   "id": "35270c13",
   "metadata": {},
   "outputs": [
    {
     "data": {
      "text/plain": [
       "'Erik'"
      ]
     },
     "execution_count": 27,
     "metadata": {},
     "output_type": "execute_result"
    }
   ],
   "source": [
    "name "
   ]
  },
  {
   "cell_type": "code",
   "execution_count": 28,
   "id": "60a75083",
   "metadata": {},
   "outputs": [],
   "source": [
    "name = 'Jakub'\n",
    "age = '15'"
   ]
  },
  {
   "cell_type": "code",
   "execution_count": 30,
   "id": "fdacdeec",
   "metadata": {},
   "outputs": [
    {
     "name": "stdout",
     "output_type": "stream",
     "text": [
      "Jakub is 15 years old.\n"
     ]
    }
   ],
   "source": [
    "print(f'{name} is {age} years old.')"
   ]
  },
  {
   "cell_type": "code",
   "execution_count": null,
   "id": "d5b76387",
   "metadata": {},
   "outputs": [],
   "source": []
  }
 ],
 "metadata": {
  "kernelspec": {
   "display_name": "Python 3 (ipykernel)",
   "language": "python",
   "name": "python3"
  },
  "language_info": {
   "codemirror_mode": {
    "name": "ipython",
    "version": 3
   },
   "file_extension": ".py",
   "mimetype": "text/x-python",
   "name": "python",
   "nbconvert_exporter": "python",
   "pygments_lexer": "ipython3",
   "version": "3.9.2"
  }
 },
 "nbformat": 4,
 "nbformat_minor": 5
}
